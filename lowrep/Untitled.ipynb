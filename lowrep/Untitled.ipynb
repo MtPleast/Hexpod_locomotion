{
 "cells": [
  {
   "cell_type": "code",
   "execution_count": 1,
   "metadata": {},
   "outputs": [
    {
     "name": "stdout",
     "output_type": "stream",
     "text": [
      "Program started\n",
      "Connected to remote API server\n"
     ]
    }
   ],
   "source": [
    "from lowGait import *"
   ]
  },
  {
   "cell_type": "code",
   "execution_count": 2,
   "metadata": {},
   "outputs": [
    {
     "data": {
      "text/plain": [
       "array([[ 0.53662699,  0.29692054, -0.73799765],\n",
       "       [ 0.02599293,  0.77073056, -0.9065696 ],\n",
       "       [-0.64931446,  0.40522689, -0.91204554],\n",
       "       [ 0.65335846, -0.40947056, -0.90644509],\n",
       "       [-0.0292604 , -0.76459366, -0.91209799],\n",
       "       [-0.67426819, -0.35351145, -0.91515201]])"
      ]
     },
     "execution_count": 2,
     "metadata": {},
     "output_type": "execute_result"
    }
   ],
   "source": [
    "initPos = np.zeros((6, 3))\n",
    "for i in range(6):\n",
    "    _,initPos[i] = vrep.simxGetObjectPosition(clientID, S1[i], BCS, vrep.simx_opmode_oneshot_wait)\n",
    "initPos"
   ]
  },
  {
   "cell_type": "code",
   "execution_count": 3,
   "metadata": {},
   "outputs": [
    {
     "name": "stdout",
     "output_type": "stream",
     "text": [
      "[[0.         0.         0.00596036]\n",
      " [0.         0.         0.        ]\n",
      " [0.         0.         0.        ]\n",
      " [0.         0.         0.        ]\n",
      " [0.         0.         0.        ]\n",
      " [0.         0.         0.        ]]\n",
      "[ 4.2116804e-05 -2.8352675e-04  1.1464487e-04]\n",
      "[[0.         0.         0.00755729]\n",
      " [0.         0.         0.        ]\n",
      " [0.         0.         0.        ]\n",
      " [0.         0.         0.        ]\n",
      " [0.         0.         0.        ]\n",
      " [0.         0.         0.        ]]\n",
      "[ 4.2288015e-05 -2.8389221e-04  1.1478046e-04]\n",
      "[[ 0.00542402  0.          0.00887402]\n",
      " [ 0.00698358  0.          0.        ]\n",
      " [ 0.          0.00767732  0.        ]\n",
      " [ 0.         -0.00812399  0.        ]\n",
      " [-0.00949377  0.          0.        ]\n",
      " [-0.00679165  0.00703937  0.        ]]\n",
      "[ 4.1476913e-05 -2.8592179e-04  1.1761053e-04]\n",
      "[[ 0.00772858  0.          0.00998862]\n",
      " [ 0.01167119  0.          0.        ]\n",
      " [ 0.          0.01224169  0.        ]\n",
      " [-0.00562423 -0.01219195  0.        ]\n",
      " [-0.01396483  0.          0.        ]\n",
      " [-0.01026905  0.0102638   0.        ]]\n",
      "[ 4.11902329e-05 -2.86965107e-04  1.18907905e-04]\n"
     ]
    },
    {
     "ename": "KeyboardInterrupt",
     "evalue": "",
     "output_type": "error",
     "traceback": [
      "\u001b[1;31m-------------------------------------------------------\u001b[0m",
      "\u001b[1;31mKeyboardInterrupt\u001b[0m     Traceback (most recent call last)",
      "\u001b[1;32m<ipython-input-3-e62061db6078>\u001b[0m in \u001b[0;36m<module>\u001b[1;34m()\u001b[0m\n\u001b[0;32m      1\u001b[0m \u001b[0minitPos\u001b[0m\u001b[1;33m[\u001b[0m\u001b[1;36m0\u001b[0m\u001b[1;33m]\u001b[0m\u001b[1;33m[\u001b[0m\u001b[1;36m2\u001b[0m\u001b[1;33m]\u001b[0m\u001b[1;33m+=\u001b[0m\u001b[1;36m0.006\u001b[0m\u001b[1;33m\u001b[0m\u001b[0m\n\u001b[1;32m----> 2\u001b[1;33m \u001b[0mcloseLoopSetPos\u001b[0m\u001b[1;33m(\u001b[0m\u001b[0minitPos\u001b[0m\u001b[1;33m)\u001b[0m\u001b[1;33m\u001b[0m\u001b[0m\n\u001b[0m",
      "\u001b[1;32mD:\\yangcy\\UNVjunior\\AIAU\\Project\\vrep\\Hexpod_locomotion\\lowrep\\lowGait.py\u001b[0m in \u001b[0;36mcloseLoopSetPos\u001b[1;34m(target)\u001b[0m\n\u001b[0;32m    121\u001b[0m                 \u001b[0mprint\u001b[0m\u001b[1;33m(\u001b[0m\u001b[0mpos\u001b[0m\u001b[1;33m)\u001b[0m\u001b[1;33m\u001b[0m\u001b[0m\n\u001b[0;32m    122\u001b[0m             \u001b[0msetleglength\u001b[0m\u001b[1;33m(\u001b[0m\u001b[0mi\u001b[0m\u001b[1;33m,\u001b[0m\u001b[0mleglength\u001b[0m \u001b[1;33m-\u001b[0m \u001b[0mpos\u001b[0m\u001b[1;33m)\u001b[0m \u001b[1;31m# I just don't know why it should be minus\u001b[0m\u001b[1;33m\u001b[0m\u001b[0m\n\u001b[1;32m--> 123\u001b[1;33m         \u001b[0mtime\u001b[0m\u001b[1;33m.\u001b[0m\u001b[0msleep\u001b[0m\u001b[1;33m(\u001b[0m\u001b[1;36m2\u001b[0m\u001b[1;33m)\u001b[0m\u001b[1;33m\u001b[0m\u001b[0m\n\u001b[0m\u001b[0;32m    124\u001b[0m         \u001b[1;32mfor\u001b[0m \u001b[0mi\u001b[0m \u001b[1;32min\u001b[0m \u001b[0mrange\u001b[0m\u001b[1;33m(\u001b[0m\u001b[1;36m6\u001b[0m\u001b[1;33m)\u001b[0m\u001b[1;33m:\u001b[0m\u001b[1;33m\u001b[0m\u001b[0m\n\u001b[0;32m    125\u001b[0m             \u001b[0m_\u001b[0m\u001b[1;33m,\u001b[0m\u001b[0minitPos\u001b[0m\u001b[1;33m[\u001b[0m\u001b[0mi\u001b[0m\u001b[1;33m]\u001b[0m \u001b[1;33m=\u001b[0m \u001b[0mvrep\u001b[0m\u001b[1;33m.\u001b[0m\u001b[0msimxGetObjectPosition\u001b[0m\u001b[1;33m(\u001b[0m\u001b[0mclientID\u001b[0m\u001b[1;33m,\u001b[0m \u001b[0mS1\u001b[0m\u001b[1;33m[\u001b[0m\u001b[0mi\u001b[0m\u001b[1;33m]\u001b[0m\u001b[1;33m,\u001b[0m \u001b[0mBCS\u001b[0m\u001b[1;33m,\u001b[0m \u001b[0mvrep\u001b[0m\u001b[1;33m.\u001b[0m\u001b[0msimx_opmode_oneshot_wait\u001b[0m\u001b[1;33m)\u001b[0m\u001b[1;33m\u001b[0m\u001b[0m\n",
      "\u001b[1;31mKeyboardInterrupt\u001b[0m: "
     ]
    }
   ],
   "source": [
    "initPos[0][2]+=0.006\n",
    "closeLoopSetPos(initPos)"
   ]
  },
  {
   "cell_type": "code",
   "execution_count": 54,
   "metadata": {},
   "outputs": [],
   "source": [
    "for i in range(1,19):\n",
    "    vrep.simxSetJointTargetPosition(clientID, pole[i], 0.3, vrep.simx_opmode_oneshot_wait)"
   ]
  },
  {
   "cell_type": "code",
   "execution_count": 6,
   "metadata": {},
   "outputs": [
    {
     "data": {
      "text/plain": [
       "array([ 4.1087518e-05, -2.7917809e-04,  1.0775733e-04], dtype=float32)"
      ]
     },
     "execution_count": 6,
     "metadata": {},
     "output_type": "execute_result"
    }
   ],
   "source": [
    "setleglength(0,[0.07,0.07,0.07])\n",
    "a = llc.querry(np.array([0.07,0.07,0.07,0,0,0.05]),0)\n",
    "a"
   ]
  },
  {
   "cell_type": "code",
   "execution_count": 5,
   "metadata": {},
   "outputs": [
    {
     "data": {
      "text/plain": [
       "array([0.06944126, 0.07035196, 0.07036233])"
      ]
     },
     "execution_count": 5,
     "metadata": {},
     "output_type": "execute_result"
    }
   ],
   "source": [
    "getleglength(0)"
   ]
  },
  {
   "cell_type": "code",
   "execution_count": 56,
   "metadata": {},
   "outputs": [
    {
     "data": {
      "text/plain": [
       "(0, [0.5417264699935913, 0.3127991259098053, -0.730209469795227])"
      ]
     },
     "execution_count": 56,
     "metadata": {},
     "output_type": "execute_result"
    }
   ],
   "source": [
    "vrep.simxGetObjectPosition(clientID, S1[0], BCS, vrep.simx_opmode_oneshot_wait)"
   ]
  },
  {
   "cell_type": "code",
   "execution_count": 57,
   "metadata": {},
   "outputs": [],
   "source": [
    "setleglength(0,np.array([0.07,0.07,0.07])+a)"
   ]
  },
  {
   "cell_type": "code",
   "execution_count": 58,
   "metadata": {},
   "outputs": [
    {
     "data": {
      "text/plain": [
       "(0, [0.542742133140564, 0.3115747570991516, -0.7300674915313721])"
      ]
     },
     "execution_count": 58,
     "metadata": {},
     "output_type": "execute_result"
    }
   ],
   "source": [
    "vrep.simxGetObjectPosition(clientID, S1[0], BCS, vrep.simx_opmode_oneshot_wait)"
   ]
  },
  {
   "cell_type": "code",
   "execution_count": 7,
   "metadata": {},
   "outputs": [],
   "source": [
    "import pickle as pkl"
   ]
  },
  {
   "cell_type": "code",
   "execution_count": 8,
   "metadata": {},
   "outputs": [],
   "source": [
    "with open(\"data3.pkl\",\"rb\") as f:\n",
    "    data = pkl.load(f)\n"
   ]
  },
  {
   "cell_type": "code",
   "execution_count": 26,
   "metadata": {},
   "outputs": [
    {
     "data": {
      "text/plain": [
       "array([-0.00396281,  0.00378334,  0.00365811])"
      ]
     },
     "execution_count": 26,
     "metadata": {},
     "output_type": "execute_result"
    }
   ],
   "source": [
    "data[\"dls\"][1]"
   ]
  },
  {
   "cell_type": "code",
   "execution_count": 29,
   "metadata": {},
   "outputs": [
    {
     "data": {
      "text/plain": [
       "array([ 0.00072695, -0.00417222,  0.00186163], dtype=float32)"
      ]
     },
     "execution_count": 29,
     "metadata": {},
     "output_type": "execute_result"
    }
   ],
   "source": [
    "a = llc.querry(np.array([0.12306219, 0.12732667, 0.12293565, 0.01304686,  0.0032855 , -0.0027777]),0)\n",
    "a"
   ]
  }
 ],
 "metadata": {
  "kernelspec": {
   "display_name": "Python 3",
   "language": "python",
   "name": "python3"
  },
  "language_info": {
   "codemirror_mode": {
    "name": "ipython",
    "version": 3
   },
   "file_extension": ".py",
   "mimetype": "text/x-python",
   "name": "python",
   "nbconvert_exporter": "python",
   "pygments_lexer": "ipython3",
   "version": "3.6.3"
  }
 },
 "nbformat": 4,
 "nbformat_minor": 2
}
