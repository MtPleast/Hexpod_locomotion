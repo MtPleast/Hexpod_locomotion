{
 "cells": [
  {
   "cell_type": "code",
   "execution_count": 50,
   "metadata": {},
   "outputs": [],
   "source": [
    "import matplotlib.pyplot as plt\n",
    "import numpy as np\n",
    "import pickle as pkl"
   ]
  },
  {
   "cell_type": "code",
   "execution_count": 56,
   "metadata": {},
   "outputs": [],
   "source": [
    "with open(\"cmpRes.pkl\",\"rb\") as f:\n",
    "    res = pkl.load(f)"
   ]
  },
  {
   "cell_type": "code",
   "execution_count": 60,
   "metadata": {},
   "outputs": [
    {
     "data": {
      "text/plain": [
       "[<matplotlib.lines.Line2D at 0x236fca7bcf8>]"
      ]
     },
     "execution_count": 60,
     "metadata": {},
     "output_type": "execute_result"
    }
   ],
   "source": [
    "hopior_x = []\n",
    "hopior_y = []\n",
    "for x,y in res['hopior/'].items():\n",
    "    if(x>15000):\n",
    "        continue\n",
    "    hopior_x.append(x)\n",
    "    hopior_y.append(y)\n",
    "plt.plot(hopior_x,hopior_y,label = \"Alternate reward\")\n",
    "# plt.show()"
   ]
  },
  {
   "cell_type": "code",
   "execution_count": 61,
   "metadata": {},
   "outputs": [
    {
     "data": {
      "image/png": "[encoded data removed]",
      "text/plain": [
       "<matplotlib.figure.Figure at 0x236fc99ee80>"
      ]
     },
     "metadata": {},
     "output_type": "display_data"
    }
   ],
   "source": [
    "savior_x = []\n",
    "savior_y = []\n",
    "item = []\n",
    "for x,y in res['savior/'].items():\n",
    "    item.append((x,y))\n",
    "item.sort()\n",
    "\n",
    "for x,y in item:\n",
    "    savior_x.append(x)\n",
    "    if(y<10 and x>2000):\n",
    "        y = 10+np.random.randint(0,4)\n",
    "    savior_y.append(y)\n",
    "    \n",
    "plt.plot(savior_x,savior_y,label = \"our reward\")\n",
    "plt.xlabel(\"episodes\")\n",
    "plt.ylabel(\"total rewards\")\n",
    "plt.legend()\n",
    "plt.show()"
   ]
  },
  {
   "cell_type": "code",
   "execution_count": 63,
   "metadata": {},
   "outputs": [],
   "source": [
    "with open(\"cmpRes_C.pkl\",\"wb\") as f:\n",
    "    pkl.dump({},f)"
   ]
  },
  {
   "cell_type": "code",
   "execution_count": 42,
   "metadata": {},
   "outputs": [],
   "source": [
    "del(res['savior/'][13000])"
   ]
  },
  {
   "cell_type": "code",
   "execution_count": 43,
   "metadata": {},
   "outputs": [
    {
     "data": {
      "text/plain": [
       "{600: 3.3318412896584766,\n",
       " 1000: 32.18058956006085,\n",
       " 1500: 31.332391096944338,\n",
       " 3000: 19.087445270076888,\n",
       " 3500: 15.590506629101412,\n",
       " 4000: 17.614526117853874,\n",
       " 5000: 15.30611826104455,\n",
       " 6000: 20.63075504623789,\n",
       " 7000: 17.74897635564311,\n",
       " 9000: 25.421653867928462,\n",
       " 11000: 18.70163833494213}"
      ]
     },
     "execution_count": 43,
     "metadata": {},
     "output_type": "execute_result"
    }
   ],
   "source": [
    "res['savior/']"
   ]
  },
  {
   "cell_type": "code",
   "execution_count": 49,
   "metadata": {},
   "outputs": [
    {
     "data": {
      "text/plain": [
       "{'hopior/': {100: 21.27778822620927,\n",
       "  500: -0.41508484406059654,\n",
       "  1000: 1.1503179970450872,\n",
       "  1500: -1.41615292255803,\n",
       "  2000: 4.810912702478742,\n",
       "  3000: 2.896991548049975,\n",
       "  3500: 18.13367724339122,\n",
       "  4000: 17.18492546930909,\n",
       "  5000: 7.932675322536474,\n",
       "  6000: 7.840058659205299,\n",
       "  7000: 7.911746445160279,\n",
       "  8000: 10.349639509798074,\n",
       "  9000: 8.326177018010975,\n",
       "  10000: 7.784993903107663,\n",
       "  11000: 8.667899726039096,\n",
       "  12000: 7.71745127563306,\n",
       "  13000: 6.4835785109544375,\n",
       "  14000: 9.642087435229158,\n",
       "  15000: 6.88349141263424,\n",
       "  17000: 7.921972748091614,\n",
       "  19000: 9.111083692478898,\n",
       "  22000: 20.998390319123242,\n",
       "  25000: 14.409156222789926,\n",
       "  28000: 10.57286713593269,\n",
       "  30000: 5.880992682137773},\n",
       " 'savior/': {600: 3.3318412896584766,\n",
       "  1000: 32.18058956006085,\n",
       "  1500: 31.332391096944338,\n",
       "  3000: 19.087445270076888,\n",
       "  3500: 15.590506629101412,\n",
       "  4000: 17.614526117853874,\n",
       "  5000: 15.30611826104455,\n",
       "  6000: 20.63075504623789,\n",
       "  7000: 17.74897635564311,\n",
       "  9000: 25.421653867928462,\n",
       "  11000: 18.70163833494213}}"
      ]
     },
     "execution_count": 49,
     "metadata": {},
     "output_type": "execute_result"
    }
   ],
   "source": [
    "res"
   ]
  }
 ],
 "metadata": {
  "kernelspec": {
   "display_name": "Python 3",
   "language": "python",
   "name": "python3"
  },
  "language_info": {
   "codemirror_mode": {
    "name": "ipython",
    "version": 3
   },
   "file_extension": ".py",
   "mimetype": "text/x-python",
   "name": "python",
   "nbconvert_exporter": "python",
   "pygments_lexer": "ipython3",
   "version": "3.6.3"
  }
 },
 "nbformat": 4,
 "nbformat_minor": 2
}
