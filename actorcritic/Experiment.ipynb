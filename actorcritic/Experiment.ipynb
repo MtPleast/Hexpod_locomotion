{
 "cells": [
  {
   "cell_type": "code",
   "execution_count": 1,
   "metadata": {},
   "outputs": [
    {
     "name": "stdout",
     "output_type": "stream",
     "text": [
      "Program started\n",
      "Connected to remote API server\n",
      "<logger.TextLogger object at 0x000001D26743CB38>\n"
     ]
    }
   ],
   "source": [
    "%matplotlib notebook\n",
    "import toyenv as env\n",
    "import matplotlib.pyplot as plt"
   ]
  },
  {
   "cell_type": "code",
   "execution_count": 2,
   "metadata": {},
   "outputs": [
    {
     "ename": "AttributeError",
     "evalue": "module 'vrep' has no attribute 'drawTopo'",
     "output_type": "error",
     "traceback": [
      "\u001b[1;31m---------------------------------------------------------------------------\u001b[0m",
      "\u001b[1;31mAttributeError\u001b[0m                            Traceback (most recent call last)",
      "\u001b[1;32m<ipython-input-2-f6ec45363ede>\u001b[0m in \u001b[0;36m<module>\u001b[1;34m()\u001b[0m\n\u001b[0;32m      1\u001b[0m \u001b[0menv\u001b[0m\u001b[1;33m.\u001b[0m\u001b[0mgenerate_set_TOPO\u001b[0m\u001b[1;33m(\u001b[0m\u001b[1;33m)\u001b[0m\u001b[1;33m\u001b[0m\u001b[0m\n\u001b[1;32m----> 2\u001b[1;33m \u001b[0menv\u001b[0m\u001b[1;33m.\u001b[0m\u001b[0mvrep\u001b[0m\u001b[1;33m.\u001b[0m\u001b[0mdrawTopo\u001b[0m\u001b[1;33m(\u001b[0m\u001b[1;33m)\u001b[0m\u001b[1;33m\u001b[0m\u001b[0m\n\u001b[0m",
      "\u001b[1;31mAttributeError\u001b[0m: module 'vrep' has no attribute 'drawTopo'"
     ]
    }
   ],
   "source": [
    "env.generate_set_TOPO()"
   ]
  },
  {
   "cell_type": "code",
   "execution_count": 4,
   "metadata": {},
   "outputs": [
    {
     "data": {
      "text/plain": [
       "([0.5275416970252991,\n",
       "  0.30462729930877686,\n",
       "  -2.448808663757518e-05,\n",
       "  0.6090927720069885,\n",
       "  -0.5275074243545532,\n",
       "  0.3044782280921936,\n",
       "  0.5276244878768921,\n",
       "  -0.30451053380966187,\n",
       "  0.00014382449444383383,\n",
       "  -0.6091499328613281,\n",
       "  -0.527420699596405,\n",
       "  -0.30465787649154663,\n",
       "  1.6677212715148926,\n",
       "  1.4644131660461426,\n",
       "  -0.37545180320739746,\n",
       "  0],\n",
       " array([[0., 0., 0., ..., 0., 0., 0.],\n",
       "        [0., 0., 0., ..., 0., 0., 0.],\n",
       "        [0., 0., 0., ..., 0., 0., 0.],\n",
       "        ...,\n",
       "        [0., 0., 0., ..., 0., 0., 0.],\n",
       "        [0., 0., 0., ..., 0., 0., 0.],\n",
       "        [0., 0., 0., ..., 0., 0., 0.]]))"
      ]
     },
     "execution_count": 4,
     "metadata": {},
     "output_type": "execute_result"
    }
   ],
   "source": [
    "env.reset()"
   ]
  },
  {
   "cell_type": "code",
   "execution_count": 17,
   "metadata": {},
   "outputs": [
    {
     "data": {
      "text/plain": [
       "[(0.39105165004730225, -1.1620286703109741, 0.05, 0.1),\n",
       " (-2.3747165203094482, -4.800658702850342, 0.05, 0.1),\n",
       " (1.9663783311843872, 3.4943606853485107, 0.05, 0.1),\n",
       " (2.8514535427093506, -2.1174638271331787, 0.05, 0.1),\n",
       " (-3.846118688583374, -0.7978857755661011, 0.05, 0.1),\n",
       " (-2.499462604522705, 2.283543109893799, 0.05, 0.1),\n",
       " (1.1356340646743774, 1.3522710800170898, 0.05, 0.1),\n",
       " (-0.7119800448417664, 2.1013712882995605, 0.05, 0.1),\n",
       " (1.962181806564331, 1.7167296409606934, 0.05, 0.1),\n",
       " (-2.475062131881714, 1.109769582748413, 0.05, 0.1),\n",
       " (0.4212413430213928, -2.3595776557922363, 0.25, 0.5),\n",
       " (0.12173272669315338, -1.7416164875030518, 0.25, 0.5),\n",
       " (-4.443500518798828, 0.023238135501742363, 0.25, 0.5),\n",
       " (-4.238281726837158, 2.6114351749420166, 0.25, 0.5),\n",
       " (1.6175479888916016, -2.0595409870147705, 0.25, 0.5),\n",
       " (-2.911471366882324, 1.3184810876846313, 0.25, 0.5)]"
      ]
     },
     "execution_count": 17,
     "metadata": {},
     "output_type": "execute_result"
    }
   ],
   "source": [
    "env.topolist"
   ]
  },
  {
   "cell_type": "code",
   "execution_count": 18,
   "metadata": {},
   "outputs": [
    {
     "data": {
      "image/png": "[encoded data removed]",
      "text/plain": [
       "<matplotlib.figure.Figure at 0x1d267464f28>"
      ]
     },
     "metadata": {},
     "output_type": "display_data"
    }
   ],
   "source": [
    "%matplotlib inline\n",
    "env.refresh_TOPO()\n",
    "obs  = env.topoObservation()\n",
    "plt.imshow(obs)\n",
    "plt.show()"
   ]
  },
  {
   "cell_type": "code",
   "execution_count": 12,
   "metadata": {},
   "outputs": [
    {
     "data": {
      "image/png": "[encoded data removed]",
      "text/plain": [
       "<matplotlib.figure.Figure at 0x17ff199aa20>"
      ]
     },
     "metadata": {},
     "output_type": "display_data"
    }
   ],
   "source": [
    "env.turn_a_deg(0.5)\n",
    "env.turn_a_deg(0.5)\n",
    "env.refresh_TOPO()\n",
    "obs  = env.topoObservation()\n",
    "plt.imshow(obs)\n",
    "plt.show()"
   ]
  },
  {
   "cell_type": "code",
   "execution_count": 6,
   "metadata": {},
   "outputs": [
    {
     "data": {
      "image/png": "[encoded data removed]",
      "text/plain": [
       "<matplotlib.figure.Figure at 0x1cfb075b940>"
      ]
     },
     "metadata": {},
     "output_type": "display_data"
    }
   ],
   "source": [
    "env.walk_a_step(0.3)\n",
    "env.refresh_TOPO()\n",
    "obs  = env.topoObservation()\n",
    "plt.imshow(obs)\n",
    "plt.show()"
   ]
  }
 ],
 "metadata": {
  "kernelspec": {
   "display_name": "Python 3",
   "language": "python",
   "name": "python3"
  },
  "language_info": {
   "codemirror_mode": {
    "name": "ipython",
    "version": 3
   },
   "file_extension": ".py",
   "mimetype": "text/x-python",
   "name": "python",
   "nbconvert_exporter": "python",
   "pygments_lexer": "ipython3",
   "version": "3.6.3"
  }
 },
 "nbformat": 4,
 "nbformat_minor": 2
}
